{
 "cells": [
  {
   "cell_type": "code",
   "execution_count": 1,
   "metadata": {},
   "outputs": [],
   "source": [
    "import math\n",
    "import numpy as np\n",
    "import pandas as pd\n",
    "import scipy.stats as stats\n",
    "from scipy.stats import multivariate_normal"
   ]
  },
  {
   "cell_type": "code",
   "execution_count": 2,
   "metadata": {},
   "outputs": [],
   "source": [
    "data = pd.read_excel (r'C:\\Users\\madhu\\Desktop\\Academics\\Data Analytics\\quiz2.xlsx')"
   ]
  },
  {
   "cell_type": "code",
   "execution_count": 3,
   "metadata": {},
   "outputs": [
    {
     "data": {
      "text/html": [
       "<div>\n",
       "<style scoped>\n",
       "    .dataframe tbody tr th:only-of-type {\n",
       "        vertical-align: middle;\n",
       "    }\n",
       "\n",
       "    .dataframe tbody tr th {\n",
       "        vertical-align: top;\n",
       "    }\n",
       "\n",
       "    .dataframe thead th {\n",
       "        text-align: right;\n",
       "    }\n",
       "</style>\n",
       "<table border=\"1\" class=\"dataframe\">\n",
       "  <thead>\n",
       "    <tr style=\"text-align: right;\">\n",
       "      <th></th>\n",
       "      <th>dat1</th>\n",
       "      <th>dat2</th>\n",
       "      <th>dat3</th>\n",
       "      <th>dat4</th>\n",
       "      <th>class</th>\n",
       "    </tr>\n",
       "  </thead>\n",
       "  <tbody>\n",
       "    <tr>\n",
       "      <th>0</th>\n",
       "      <td>5.1</td>\n",
       "      <td>3.5</td>\n",
       "      <td>1.4</td>\n",
       "      <td>0.2</td>\n",
       "      <td>Iris-setosa</td>\n",
       "    </tr>\n",
       "    <tr>\n",
       "      <th>1</th>\n",
       "      <td>4.9</td>\n",
       "      <td>3.0</td>\n",
       "      <td>1.4</td>\n",
       "      <td>0.2</td>\n",
       "      <td>Iris-setosa</td>\n",
       "    </tr>\n",
       "    <tr>\n",
       "      <th>2</th>\n",
       "      <td>4.7</td>\n",
       "      <td>3.2</td>\n",
       "      <td>1.3</td>\n",
       "      <td>0.2</td>\n",
       "      <td>Iris-setosa</td>\n",
       "    </tr>\n",
       "    <tr>\n",
       "      <th>3</th>\n",
       "      <td>4.6</td>\n",
       "      <td>3.1</td>\n",
       "      <td>1.5</td>\n",
       "      <td>0.2</td>\n",
       "      <td>Iris-setosa</td>\n",
       "    </tr>\n",
       "    <tr>\n",
       "      <th>4</th>\n",
       "      <td>5.0</td>\n",
       "      <td>3.6</td>\n",
       "      <td>1.4</td>\n",
       "      <td>0.2</td>\n",
       "      <td>Iris-setosa</td>\n",
       "    </tr>\n",
       "    <tr>\n",
       "      <th>5</th>\n",
       "      <td>5.4</td>\n",
       "      <td>3.9</td>\n",
       "      <td>1.7</td>\n",
       "      <td>0.4</td>\n",
       "      <td>Iris-setosa</td>\n",
       "    </tr>\n",
       "    <tr>\n",
       "      <th>6</th>\n",
       "      <td>4.6</td>\n",
       "      <td>3.4</td>\n",
       "      <td>1.4</td>\n",
       "      <td>0.3</td>\n",
       "      <td>Iris-setosa</td>\n",
       "    </tr>\n",
       "    <tr>\n",
       "      <th>7</th>\n",
       "      <td>5.0</td>\n",
       "      <td>3.4</td>\n",
       "      <td>1.5</td>\n",
       "      <td>0.2</td>\n",
       "      <td>Iris-setosa</td>\n",
       "    </tr>\n",
       "    <tr>\n",
       "      <th>8</th>\n",
       "      <td>4.4</td>\n",
       "      <td>2.9</td>\n",
       "      <td>1.4</td>\n",
       "      <td>0.2</td>\n",
       "      <td>Iris-setosa</td>\n",
       "    </tr>\n",
       "    <tr>\n",
       "      <th>9</th>\n",
       "      <td>4.9</td>\n",
       "      <td>3.1</td>\n",
       "      <td>1.5</td>\n",
       "      <td>0.1</td>\n",
       "      <td>Iris-setosa</td>\n",
       "    </tr>\n",
       "    <tr>\n",
       "      <th>10</th>\n",
       "      <td>7.0</td>\n",
       "      <td>3.2</td>\n",
       "      <td>4.7</td>\n",
       "      <td>1.4</td>\n",
       "      <td>Iris-versicolor</td>\n",
       "    </tr>\n",
       "    <tr>\n",
       "      <th>11</th>\n",
       "      <td>6.4</td>\n",
       "      <td>3.2</td>\n",
       "      <td>4.5</td>\n",
       "      <td>1.5</td>\n",
       "      <td>Iris-versicolor</td>\n",
       "    </tr>\n",
       "    <tr>\n",
       "      <th>12</th>\n",
       "      <td>6.9</td>\n",
       "      <td>3.1</td>\n",
       "      <td>4.9</td>\n",
       "      <td>1.5</td>\n",
       "      <td>Iris-versicolor</td>\n",
       "    </tr>\n",
       "    <tr>\n",
       "      <th>13</th>\n",
       "      <td>5.5</td>\n",
       "      <td>2.3</td>\n",
       "      <td>4.0</td>\n",
       "      <td>1.3</td>\n",
       "      <td>Iris-versicolor</td>\n",
       "    </tr>\n",
       "    <tr>\n",
       "      <th>14</th>\n",
       "      <td>6.5</td>\n",
       "      <td>2.8</td>\n",
       "      <td>4.6</td>\n",
       "      <td>1.5</td>\n",
       "      <td>Iris-versicolor</td>\n",
       "    </tr>\n",
       "    <tr>\n",
       "      <th>15</th>\n",
       "      <td>5.7</td>\n",
       "      <td>2.8</td>\n",
       "      <td>4.5</td>\n",
       "      <td>1.3</td>\n",
       "      <td>Iris-versicolor</td>\n",
       "    </tr>\n",
       "    <tr>\n",
       "      <th>16</th>\n",
       "      <td>6.3</td>\n",
       "      <td>3.3</td>\n",
       "      <td>4.7</td>\n",
       "      <td>1.6</td>\n",
       "      <td>Iris-versicolor</td>\n",
       "    </tr>\n",
       "    <tr>\n",
       "      <th>17</th>\n",
       "      <td>4.9</td>\n",
       "      <td>2.4</td>\n",
       "      <td>3.3</td>\n",
       "      <td>1.0</td>\n",
       "      <td>Iris-versicolor</td>\n",
       "    </tr>\n",
       "    <tr>\n",
       "      <th>18</th>\n",
       "      <td>6.6</td>\n",
       "      <td>2.9</td>\n",
       "      <td>4.6</td>\n",
       "      <td>1.3</td>\n",
       "      <td>Iris-versicolor</td>\n",
       "    </tr>\n",
       "    <tr>\n",
       "      <th>19</th>\n",
       "      <td>5.2</td>\n",
       "      <td>2.7</td>\n",
       "      <td>3.9</td>\n",
       "      <td>1.4</td>\n",
       "      <td>Iris-versicolor</td>\n",
       "    </tr>\n",
       "    <tr>\n",
       "      <th>20</th>\n",
       "      <td>6.3</td>\n",
       "      <td>3.3</td>\n",
       "      <td>6.0</td>\n",
       "      <td>2.5</td>\n",
       "      <td>Iris-virginica</td>\n",
       "    </tr>\n",
       "    <tr>\n",
       "      <th>21</th>\n",
       "      <td>5.8</td>\n",
       "      <td>2.7</td>\n",
       "      <td>5.1</td>\n",
       "      <td>1.9</td>\n",
       "      <td>Iris-virginica</td>\n",
       "    </tr>\n",
       "    <tr>\n",
       "      <th>22</th>\n",
       "      <td>7.1</td>\n",
       "      <td>3.0</td>\n",
       "      <td>5.9</td>\n",
       "      <td>2.1</td>\n",
       "      <td>Iris-virginica</td>\n",
       "    </tr>\n",
       "    <tr>\n",
       "      <th>23</th>\n",
       "      <td>6.3</td>\n",
       "      <td>2.9</td>\n",
       "      <td>5.6</td>\n",
       "      <td>1.8</td>\n",
       "      <td>Iris-virginica</td>\n",
       "    </tr>\n",
       "    <tr>\n",
       "      <th>24</th>\n",
       "      <td>6.5</td>\n",
       "      <td>3.0</td>\n",
       "      <td>5.8</td>\n",
       "      <td>2.2</td>\n",
       "      <td>Iris-virginica</td>\n",
       "    </tr>\n",
       "    <tr>\n",
       "      <th>25</th>\n",
       "      <td>7.6</td>\n",
       "      <td>3.0</td>\n",
       "      <td>6.6</td>\n",
       "      <td>2.1</td>\n",
       "      <td>Iris-virginica</td>\n",
       "    </tr>\n",
       "    <tr>\n",
       "      <th>26</th>\n",
       "      <td>4.9</td>\n",
       "      <td>2.5</td>\n",
       "      <td>4.5</td>\n",
       "      <td>1.7</td>\n",
       "      <td>Iris-virginica</td>\n",
       "    </tr>\n",
       "    <tr>\n",
       "      <th>27</th>\n",
       "      <td>7.3</td>\n",
       "      <td>2.9</td>\n",
       "      <td>6.3</td>\n",
       "      <td>1.8</td>\n",
       "      <td>Iris-virginica</td>\n",
       "    </tr>\n",
       "    <tr>\n",
       "      <th>28</th>\n",
       "      <td>6.7</td>\n",
       "      <td>2.5</td>\n",
       "      <td>5.8</td>\n",
       "      <td>1.8</td>\n",
       "      <td>Iris-virginica</td>\n",
       "    </tr>\n",
       "    <tr>\n",
       "      <th>29</th>\n",
       "      <td>7.2</td>\n",
       "      <td>3.6</td>\n",
       "      <td>6.1</td>\n",
       "      <td>2.5</td>\n",
       "      <td>Iris-virginica</td>\n",
       "    </tr>\n",
       "  </tbody>\n",
       "</table>\n",
       "</div>"
      ],
      "text/plain": [
       "    dat1  dat2  dat3  dat4            class\n",
       "0    5.1   3.5   1.4   0.2      Iris-setosa\n",
       "1    4.9   3.0   1.4   0.2      Iris-setosa\n",
       "2    4.7   3.2   1.3   0.2      Iris-setosa\n",
       "3    4.6   3.1   1.5   0.2      Iris-setosa\n",
       "4    5.0   3.6   1.4   0.2      Iris-setosa\n",
       "5    5.4   3.9   1.7   0.4      Iris-setosa\n",
       "6    4.6   3.4   1.4   0.3      Iris-setosa\n",
       "7    5.0   3.4   1.5   0.2      Iris-setosa\n",
       "8    4.4   2.9   1.4   0.2      Iris-setosa\n",
       "9    4.9   3.1   1.5   0.1      Iris-setosa\n",
       "10   7.0   3.2   4.7   1.4  Iris-versicolor\n",
       "11   6.4   3.2   4.5   1.5  Iris-versicolor\n",
       "12   6.9   3.1   4.9   1.5  Iris-versicolor\n",
       "13   5.5   2.3   4.0   1.3  Iris-versicolor\n",
       "14   6.5   2.8   4.6   1.5  Iris-versicolor\n",
       "15   5.7   2.8   4.5   1.3  Iris-versicolor\n",
       "16   6.3   3.3   4.7   1.6  Iris-versicolor\n",
       "17   4.9   2.4   3.3   1.0  Iris-versicolor\n",
       "18   6.6   2.9   4.6   1.3  Iris-versicolor\n",
       "19   5.2   2.7   3.9   1.4  Iris-versicolor\n",
       "20   6.3   3.3   6.0   2.5   Iris-virginica\n",
       "21   5.8   2.7   5.1   1.9   Iris-virginica\n",
       "22   7.1   3.0   5.9   2.1   Iris-virginica\n",
       "23   6.3   2.9   5.6   1.8   Iris-virginica\n",
       "24   6.5   3.0   5.8   2.2   Iris-virginica\n",
       "25   7.6   3.0   6.6   2.1   Iris-virginica\n",
       "26   4.9   2.5   4.5   1.7   Iris-virginica\n",
       "27   7.3   2.9   6.3   1.8   Iris-virginica\n",
       "28   6.7   2.5   5.8   1.8   Iris-virginica\n",
       "29   7.2   3.6   6.1   2.5   Iris-virginica"
      ]
     },
     "execution_count": 3,
     "metadata": {},
     "output_type": "execute_result"
    }
   ],
   "source": [
    "data"
   ]
  },
  {
   "cell_type": "code",
   "execution_count": 4,
   "metadata": {},
   "outputs": [
    {
     "name": "stdout",
     "output_type": "stream",
     "text": [
      "[[5.1 3.5 1.4 0.2]\n",
      " [4.9 3.  1.4 0.2]\n",
      " [4.7 3.2 1.3 0.2]\n",
      " [4.6 3.1 1.5 0.2]\n",
      " [5.  3.6 1.4 0.2]\n",
      " [5.4 3.9 1.7 0.4]\n",
      " [4.6 3.4 1.4 0.3]\n",
      " [5.  3.4 1.5 0.2]\n",
      " [4.4 2.9 1.4 0.2]\n",
      " [4.9 3.1 1.5 0.1]]\n"
     ]
    }
   ],
   "source": [
    "model1=data.iloc[0:10]\n",
    "mod1 = np.asmatrix(model1.drop('class',axis=1))\n",
    "print(mod1)"
   ]
  },
  {
   "cell_type": "code",
   "execution_count": 5,
   "metadata": {},
   "outputs": [
    {
     "name": "stdout",
     "output_type": "stream",
     "text": [
      "[[7.  3.2 4.7 1.4]\n",
      " [6.4 3.2 4.5 1.5]\n",
      " [6.9 3.1 4.9 1.5]\n",
      " [5.5 2.3 4.  1.3]\n",
      " [6.5 2.8 4.6 1.5]\n",
      " [5.7 2.8 4.5 1.3]\n",
      " [6.3 3.3 4.7 1.6]\n",
      " [4.9 2.4 3.3 1. ]\n",
      " [6.6 2.9 4.6 1.3]\n",
      " [5.2 2.7 3.9 1.4]]\n"
     ]
    }
   ],
   "source": [
    "model2=data.iloc[10:20]\n",
    "mod2 = np.asmatrix(model2.drop('class',axis=1))\n",
    "print(mod2)"
   ]
  },
  {
   "cell_type": "code",
   "execution_count": 6,
   "metadata": {},
   "outputs": [
    {
     "name": "stdout",
     "output_type": "stream",
     "text": [
      "[[6.3 3.3 6.  2.5]\n",
      " [5.8 2.7 5.1 1.9]\n",
      " [7.1 3.  5.9 2.1]\n",
      " [6.3 2.9 5.6 1.8]\n",
      " [6.5 3.  5.8 2.2]\n",
      " [7.6 3.  6.6 2.1]\n",
      " [4.9 2.5 4.5 1.7]\n",
      " [7.3 2.9 6.3 1.8]\n",
      " [6.7 2.5 5.8 1.8]\n",
      " [7.2 3.6 6.1 2.5]]\n"
     ]
    }
   ],
   "source": [
    "model3=data.iloc[20:30]\n",
    "mod3 = np.asmatrix(model3.drop('class',axis=1))\n",
    "print(mod3)"
   ]
  },
  {
   "cell_type": "code",
   "execution_count": 7,
   "metadata": {},
   "outputs": [
    {
     "data": {
      "text/html": [
       "<div>\n",
       "<style scoped>\n",
       "    .dataframe tbody tr th:only-of-type {\n",
       "        vertical-align: middle;\n",
       "    }\n",
       "\n",
       "    .dataframe tbody tr th {\n",
       "        vertical-align: top;\n",
       "    }\n",
       "\n",
       "    .dataframe thead th {\n",
       "        text-align: right;\n",
       "    }\n",
       "</style>\n",
       "<table border=\"1\" class=\"dataframe\">\n",
       "  <thead>\n",
       "    <tr style=\"text-align: right;\">\n",
       "      <th></th>\n",
       "      <th>dat1</th>\n",
       "      <th>dat2</th>\n",
       "      <th>dat3</th>\n",
       "      <th>dat4</th>\n",
       "    </tr>\n",
       "  </thead>\n",
       "  <tbody>\n",
       "    <tr>\n",
       "      <th>count</th>\n",
       "      <td>10.000000</td>\n",
       "      <td>10.000000</td>\n",
       "      <td>10.000000</td>\n",
       "      <td>10.000000</td>\n",
       "    </tr>\n",
       "    <tr>\n",
       "      <th>mean</th>\n",
       "      <td>4.860000</td>\n",
       "      <td>3.310000</td>\n",
       "      <td>1.450000</td>\n",
       "      <td>0.220000</td>\n",
       "    </tr>\n",
       "    <tr>\n",
       "      <th>std</th>\n",
       "      <td>0.291357</td>\n",
       "      <td>0.307137</td>\n",
       "      <td>0.108012</td>\n",
       "      <td>0.078881</td>\n",
       "    </tr>\n",
       "    <tr>\n",
       "      <th>min</th>\n",
       "      <td>4.400000</td>\n",
       "      <td>2.900000</td>\n",
       "      <td>1.300000</td>\n",
       "      <td>0.100000</td>\n",
       "    </tr>\n",
       "    <tr>\n",
       "      <th>25%</th>\n",
       "      <td>4.625000</td>\n",
       "      <td>3.100000</td>\n",
       "      <td>1.400000</td>\n",
       "      <td>0.200000</td>\n",
       "    </tr>\n",
       "    <tr>\n",
       "      <th>50%</th>\n",
       "      <td>4.900000</td>\n",
       "      <td>3.300000</td>\n",
       "      <td>1.400000</td>\n",
       "      <td>0.200000</td>\n",
       "    </tr>\n",
       "    <tr>\n",
       "      <th>75%</th>\n",
       "      <td>5.000000</td>\n",
       "      <td>3.475000</td>\n",
       "      <td>1.500000</td>\n",
       "      <td>0.200000</td>\n",
       "    </tr>\n",
       "    <tr>\n",
       "      <th>max</th>\n",
       "      <td>5.400000</td>\n",
       "      <td>3.900000</td>\n",
       "      <td>1.700000</td>\n",
       "      <td>0.400000</td>\n",
       "    </tr>\n",
       "  </tbody>\n",
       "</table>\n",
       "</div>"
      ],
      "text/plain": [
       "            dat1       dat2       dat3       dat4\n",
       "count  10.000000  10.000000  10.000000  10.000000\n",
       "mean    4.860000   3.310000   1.450000   0.220000\n",
       "std     0.291357   0.307137   0.108012   0.078881\n",
       "min     4.400000   2.900000   1.300000   0.100000\n",
       "25%     4.625000   3.100000   1.400000   0.200000\n",
       "50%     4.900000   3.300000   1.400000   0.200000\n",
       "75%     5.000000   3.475000   1.500000   0.200000\n",
       "max     5.400000   3.900000   1.700000   0.400000"
      ]
     },
     "execution_count": 7,
     "metadata": {},
     "output_type": "execute_result"
    }
   ],
   "source": [
    "model1.describe()"
   ]
  },
  {
   "cell_type": "code",
   "execution_count": null,
   "metadata": {},
   "outputs": [],
   "source": [
    "\n"
   ]
  },
  {
   "cell_type": "code",
   "execution_count": 8,
   "metadata": {},
   "outputs": [
    {
     "name": "stdout",
     "output_type": "stream",
     "text": [
      "[4.86 3.31 1.45 0.22]\n"
     ]
    }
   ],
   "source": [
    "mean1 = np.asarray(np.mean(model1))\n",
    "print(mean1)"
   ]
  },
  {
   "cell_type": "code",
   "execution_count": 9,
   "metadata": {},
   "outputs": [
    {
     "name": "stdout",
     "output_type": "stream",
     "text": [
      "[6.1  2.87 4.37 1.38]\n"
     ]
    }
   ],
   "source": [
    "mean2 = np.asarray(np.mean(model2))\n",
    "print(mean2)"
   ]
  },
  {
   "cell_type": "code",
   "execution_count": 10,
   "metadata": {},
   "outputs": [
    {
     "name": "stdout",
     "output_type": "stream",
     "text": [
      "[6.57 2.94 5.77 2.04]\n"
     ]
    }
   ],
   "source": [
    "mean3 = np.asarray(np.mean(model3))\n",
    "print(mean3)"
   ]
  },
  {
   "cell_type": "code",
   "execution_count": 11,
   "metadata": {},
   "outputs": [
    {
     "name": "stdout",
     "output_type": "stream",
     "text": [
      "[[0.08488889 0.07044444 0.01888889 0.00866667]\n",
      " [0.07044444 0.09433333 0.01722222 0.01644444]\n",
      " [0.01888889 0.01722222 0.01166667 0.00444444]\n",
      " [0.00866667 0.01644444 0.00444444 0.00622222]]\n"
     ]
    }
   ],
   "source": [
    "C1 = np.asmatrix(model1.cov())\n",
    "print(C1)"
   ]
  },
  {
   "cell_type": "code",
   "execution_count": 12,
   "metadata": {},
   "outputs": [
    {
     "name": "stdout",
     "output_type": "stream",
     "text": [
      "[[0.52888889 0.19333333 0.32333333 0.08      ]\n",
      " [0.19333333 0.11566667 0.13233333 0.04266667]\n",
      " [0.32333333 0.13233333 0.23788889 0.06488889]\n",
      " [0.08       0.04266667 0.06488889 0.02844444]]\n"
     ]
    }
   ],
   "source": [
    "C2 = np.asmatrix(model2.cov())\n",
    "print(C2)"
   ]
  },
  {
   "cell_type": "code",
   "execution_count": 13,
   "metadata": {
    "scrolled": true
   },
   "outputs": [
    {
     "name": "stdout",
     "output_type": "stream",
     "text": [
      "[[0.64677778 0.13911111 0.46011111 0.08688889]\n",
      " [0.13911111 0.11377778 0.11688889 0.08822222]\n",
      " [0.46011111 0.11688889 0.36011111 0.08355556]\n",
      " [0.08688889 0.08822222 0.08355556 0.08488889]]\n"
     ]
    }
   ],
   "source": [
    "C3 = np.asmatrix(model3.cov())\n",
    "print(C3)"
   ]
  },
  {
   "cell_type": "code",
   "execution_count": 14,
   "metadata": {},
   "outputs": [
    {
     "name": "stdout",
     "output_type": "stream",
     "text": [
      "[[5.4 3.7 1.5 0.2]\n",
      " [4.8 3.4 1.6 0.2]\n",
      " [4.8 3.1 1.4 0.1]\n",
      " [4.3 3.1 1.1 0.1]\n",
      " [5.8 4.1 1.2 0.2]\n",
      " [5.  2.  3.5 1. ]\n",
      " [5.9 3.  4.2 1.5]\n",
      " [6.  2.2 4.  1. ]\n",
      " [6.1 2.9 4.7 1.4]\n",
      " [5.6 2.9 3.6 1.3]\n",
      " [6.5 3.2 5.1 2. ]\n",
      " [6.4 2.7 5.3 1.9]\n",
      " [6.8 3.  5.5 2.1]\n",
      " [5.7 2.5 5.  2. ]\n",
      " [5.8 2.8 5.1 2.4]]\n"
     ]
    }
   ],
   "source": [
    "testdata = pd.read_csv ('quiztest.csv')\n",
    "testmodel=testdata.iloc[0:15]\n",
    "testmod = np.asmatrix(testmodel.drop('true class',axis=1))\n",
    "print(testmod)\n",
    "\n"
   ]
  },
  {
   "cell_type": "code",
   "execution_count": 17,
   "metadata": {},
   "outputs": [],
   "source": [
    "pdf_mod = multivariate_normal.pdf(testmod,mean1,C1)\n",
    "                                  "
   ]
  },
  {
   "cell_type": "code",
   "execution_count": 101,
   "metadata": {},
   "outputs": [
    {
     "name": "stdout",
     "output_type": "stream",
     "text": [
      "[9.716045309776188, 2.256266630623961, 29.64101258338292, 0.07310641691480058, 3.6718071652500705e-07, 6.525118726868728e-165, 2.106765369877052e-254, 8.647364742278669e-219, 2.3856363134e-314, 3.8312114615558203e-171, 0.0, 0.0, 0.0, 0.0, 0.0]\n"
     ]
    }
   ],
   "source": [
    "model1_pdf = []#list\n",
    "for i in testmod:\n",
    "    pdf_mod1 = multivariate_normal.pdf(i,mean1,C1)# modelling the group1 using mean and covariance of group1 and test data \n",
    "    model1_pdf.append(pdf_mod1)\n",
    "print(model1_pdf)\n",
    "    "
   ]
  },
  {
   "cell_type": "code",
   "execution_count": null,
   "metadata": {},
   "outputs": [],
   "source": []
  },
  {
   "cell_type": "code",
   "execution_count": 102,
   "metadata": {},
   "outputs": [
    {
     "name": "stdout",
     "output_type": "stream",
     "text": [
      "[1.217240125677337e-58, 2.2124546187500183e-44, 2.864346545901564e-44, 6.98156159938278e-47, 2.5589610572232928e-83, 0.20951513345792958, 1.8810866565154343, 0.028831374737331158, 1.3132323971234499, 0.044511799130890956, 0.00017321885288294867, 1.8655930210563632e-06, 1.2454086876787322e-07, 2.3040270838674402e-10, 2.00577046229496e-19]\n"
     ]
    }
   ],
   "source": [
    "model2_pdf = []#list\n",
    "for i in testmod:\n",
    "    pdf_mod2 = multivariate_normal.pdf(i,mean2,C2) # i is row \n",
    "    model2_pdf.append(pdf_mod2)\n",
    "print(model2_pdf)"
   ]
  },
  {
   "cell_type": "code",
   "execution_count": null,
   "metadata": {},
   "outputs": [],
   "source": [
    "\n"
   ]
  },
  {
   "cell_type": "code",
   "execution_count": 103,
   "metadata": {},
   "outputs": [
    {
     "name": "stdout",
     "output_type": "stream",
     "text": [
      "[7.379426385530964e-146, 1.0722556839030078e-112, 9.86504351808781e-110, 1.8205043203718956e-110, 5.306046113079283e-195, 9.609940805850078e-10, 7.59832473135593e-12, 7.150405564591157e-13, 1.9659439292762394e-07, 5.583698304476587e-20, 0.0008536915428231448, 0.474777112814628, 0.1126524930043789, 0.056051772995457966, 0.0008485190894048141]\n"
     ]
    }
   ],
   "source": [
    "model3_pdf = []\n",
    "for i in testmod:\n",
    "    pdf_mod3 = multivariate_normal.pdf(i,mean3,C3) \n",
    "    model3_pdf.append(pdf_mod3)\n",
    "    \n",
    "\n",
    "print(model3_pdf)"
   ]
  },
  {
   "cell_type": "code",
   "execution_count": null,
   "metadata": {},
   "outputs": [],
   "source": [
    "\n"
   ]
  },
  {
   "cell_type": "code",
   "execution_count": 106,
   "metadata": {},
   "outputs": [],
   "source": [
    "f = {'col_1': model1_pdf,'col_2': model2_pdf,'col_3':model3_pdf}\n",
    "df = pd.DataFrame(f)"
   ]
  },
  {
   "cell_type": "code",
   "execution_count": 107,
   "metadata": {},
   "outputs": [
    {
     "data": {
      "text/html": [
       "<div>\n",
       "<style scoped>\n",
       "    .dataframe tbody tr th:only-of-type {\n",
       "        vertical-align: middle;\n",
       "    }\n",
       "\n",
       "    .dataframe tbody tr th {\n",
       "        vertical-align: top;\n",
       "    }\n",
       "\n",
       "    .dataframe thead th {\n",
       "        text-align: right;\n",
       "    }\n",
       "</style>\n",
       "<table border=\"1\" class=\"dataframe\">\n",
       "  <thead>\n",
       "    <tr style=\"text-align: right;\">\n",
       "      <th></th>\n",
       "      <th>col_1</th>\n",
       "      <th>col_2</th>\n",
       "      <th>col_3</th>\n",
       "    </tr>\n",
       "  </thead>\n",
       "  <tbody>\n",
       "    <tr>\n",
       "      <th>0</th>\n",
       "      <td>9.716045e+00</td>\n",
       "      <td>1.217240e-58</td>\n",
       "      <td>7.379426e-146</td>\n",
       "    </tr>\n",
       "    <tr>\n",
       "      <th>1</th>\n",
       "      <td>2.256267e+00</td>\n",
       "      <td>2.212455e-44</td>\n",
       "      <td>1.072256e-112</td>\n",
       "    </tr>\n",
       "    <tr>\n",
       "      <th>2</th>\n",
       "      <td>2.964101e+01</td>\n",
       "      <td>2.864347e-44</td>\n",
       "      <td>9.865044e-110</td>\n",
       "    </tr>\n",
       "    <tr>\n",
       "      <th>3</th>\n",
       "      <td>7.310642e-02</td>\n",
       "      <td>6.981562e-47</td>\n",
       "      <td>1.820504e-110</td>\n",
       "    </tr>\n",
       "    <tr>\n",
       "      <th>4</th>\n",
       "      <td>3.671807e-07</td>\n",
       "      <td>2.558961e-83</td>\n",
       "      <td>5.306046e-195</td>\n",
       "    </tr>\n",
       "    <tr>\n",
       "      <th>5</th>\n",
       "      <td>6.525119e-165</td>\n",
       "      <td>2.095151e-01</td>\n",
       "      <td>9.609941e-10</td>\n",
       "    </tr>\n",
       "    <tr>\n",
       "      <th>6</th>\n",
       "      <td>2.106765e-254</td>\n",
       "      <td>1.881087e+00</td>\n",
       "      <td>7.598325e-12</td>\n",
       "    </tr>\n",
       "    <tr>\n",
       "      <th>7</th>\n",
       "      <td>8.647365e-219</td>\n",
       "      <td>2.883137e-02</td>\n",
       "      <td>7.150406e-13</td>\n",
       "    </tr>\n",
       "    <tr>\n",
       "      <th>8</th>\n",
       "      <td>2.385636e-314</td>\n",
       "      <td>1.313232e+00</td>\n",
       "      <td>1.965944e-07</td>\n",
       "    </tr>\n",
       "    <tr>\n",
       "      <th>9</th>\n",
       "      <td>3.831211e-171</td>\n",
       "      <td>4.451180e-02</td>\n",
       "      <td>5.583698e-20</td>\n",
       "    </tr>\n",
       "    <tr>\n",
       "      <th>10</th>\n",
       "      <td>0.000000e+00</td>\n",
       "      <td>1.732189e-04</td>\n",
       "      <td>8.536915e-04</td>\n",
       "    </tr>\n",
       "    <tr>\n",
       "      <th>11</th>\n",
       "      <td>0.000000e+00</td>\n",
       "      <td>1.865593e-06</td>\n",
       "      <td>4.747771e-01</td>\n",
       "    </tr>\n",
       "    <tr>\n",
       "      <th>12</th>\n",
       "      <td>0.000000e+00</td>\n",
       "      <td>1.245409e-07</td>\n",
       "      <td>1.126525e-01</td>\n",
       "    </tr>\n",
       "    <tr>\n",
       "      <th>13</th>\n",
       "      <td>0.000000e+00</td>\n",
       "      <td>2.304027e-10</td>\n",
       "      <td>5.605177e-02</td>\n",
       "    </tr>\n",
       "    <tr>\n",
       "      <th>14</th>\n",
       "      <td>0.000000e+00</td>\n",
       "      <td>2.005770e-19</td>\n",
       "      <td>8.485191e-04</td>\n",
       "    </tr>\n",
       "  </tbody>\n",
       "</table>\n",
       "</div>"
      ],
      "text/plain": [
       "            col_1         col_2          col_3\n",
       "0    9.716045e+00  1.217240e-58  7.379426e-146\n",
       "1    2.256267e+00  2.212455e-44  1.072256e-112\n",
       "2    2.964101e+01  2.864347e-44  9.865044e-110\n",
       "3    7.310642e-02  6.981562e-47  1.820504e-110\n",
       "4    3.671807e-07  2.558961e-83  5.306046e-195\n",
       "5   6.525119e-165  2.095151e-01   9.609941e-10\n",
       "6   2.106765e-254  1.881087e+00   7.598325e-12\n",
       "7   8.647365e-219  2.883137e-02   7.150406e-13\n",
       "8   2.385636e-314  1.313232e+00   1.965944e-07\n",
       "9   3.831211e-171  4.451180e-02   5.583698e-20\n",
       "10   0.000000e+00  1.732189e-04   8.536915e-04\n",
       "11   0.000000e+00  1.865593e-06   4.747771e-01\n",
       "12   0.000000e+00  1.245409e-07   1.126525e-01\n",
       "13   0.000000e+00  2.304027e-10   5.605177e-02\n",
       "14   0.000000e+00  2.005770e-19   8.485191e-04"
      ]
     },
     "execution_count": 107,
     "metadata": {},
     "output_type": "execute_result"
    }
   ],
   "source": [
    "df"
   ]
  },
  {
   "cell_type": "code",
   "execution_count": 108,
   "metadata": {},
   "outputs": [
    {
     "data": {
      "text/plain": [
       "2"
      ]
     },
     "execution_count": 108,
     "metadata": {},
     "output_type": "execute_result"
    }
   ],
   "source": [
    "np.argmax(df.col_1)"
   ]
  },
  {
   "cell_type": "code",
   "execution_count": 109,
   "metadata": {},
   "outputs": [
    {
     "data": {
      "text/plain": [
       "6"
      ]
     },
     "execution_count": 109,
     "metadata": {},
     "output_type": "execute_result"
    }
   ],
   "source": [
    "np.argmax(df.col_2)"
   ]
  },
  {
   "cell_type": "code",
   "execution_count": 110,
   "metadata": {},
   "outputs": [
    {
     "data": {
      "text/plain": [
       "11"
      ]
     },
     "execution_count": 110,
     "metadata": {},
     "output_type": "execute_result"
    }
   ],
   "source": [
    "np.argmax(df.col_3)"
   ]
  },
  {
   "cell_type": "code",
   "execution_count": 115,
   "metadata": {},
   "outputs": [
    {
     "name": "stdout",
     "output_type": "stream",
     "text": [
      "[[0]\n",
      " [0]\n",
      " [0]\n",
      " [0]\n",
      " [0]\n",
      " [1]\n",
      " [1]\n",
      " [1]\n",
      " [1]\n",
      " [1]\n",
      " [2]\n",
      " [2]\n",
      " [2]\n",
      " [2]\n",
      " [2]]\n"
     ]
    }
   ],
   "source": [
    "mat = np.asmatrix(df)\n",
    "Output = np.argmax(mat,1)\n",
    "print(Output)"
   ]
  },
  {
   "cell_type": "code",
   "execution_count": 79,
   "metadata": {},
   "outputs": [
    {
     "name": "stdout",
     "output_type": "stream",
     "text": [
      "[5.66       2.97333333 3.52       1.16      ]\n",
      "[[ 0.48542857 -0.02471429  0.92871429  0.43257143]\n",
      " [-0.02471429  0.28209524 -0.49657143 -0.19971429]\n",
      " [ 0.92871429 -0.49657143  2.84742857  1.35585714]\n",
      " [ 0.43257143 -0.19971429  1.35585714  0.68828571]]\n"
     ]
    }
   ],
   "source": [
    "test_mean = np.asarray(np.mean(testmodel))\n",
    "print(test_mean)\n",
    "CT = np.asmatrix(testmodel.cov())\n",
    "print(CT)"
   ]
  },
  {
   "cell_type": "code",
   "execution_count": null,
   "metadata": {},
   "outputs": [],
   "source": []
  },
  {
   "cell_type": "code",
   "execution_count": 80,
   "metadata": {},
   "outputs": [
    {
     "name": "stdout",
     "output_type": "stream",
     "text": [
      "[0.0, 0.0, 0.0, 0.0, 0.0, 2.3856363134e-314, 2.106765369877052e-254, 8.647364742278669e-219, 3.8312114615558203e-171, 6.525118726868728e-165, 3.6718071652500705e-07, 0.07310641691480058, 2.256266630623961, 9.716045309776188, 29.64101258338292, 2.5589610572232928e-83, 1.217240125677337e-58, 6.98156159938278e-47, 2.2124546187500183e-44, 2.864346545901564e-44, 2.00577046229496e-19, 2.3040270838674402e-10, 1.2454086876787322e-07, 1.8655930210563632e-06, 0.00017321885288294867, 0.028831374737331158, 0.044511799130890956, 0.20951513345792958, 1.3132323971234499, 1.8810866565154343, 5.306046113079283e-195, 7.379426385530964e-146, 1.0722556839030078e-112, 1.8205043203718956e-110, 9.86504351808781e-110, 5.583698304476587e-20, 7.150405564591157e-13, 7.59832473135593e-12, 9.609940805850078e-10, 1.9659439292762394e-07, 0.0008485190894048141, 0.0008536915428231448, 0.056051772995457966, 0.1126524930043789, 0.474777112814628]\n"
     ]
    }
   ],
   "source": [
    "list = []\n",
    "list = model1_pdf +model2_pdf +model3_pdf\n",
    "print(list)"
   ]
  },
  {
   "cell_type": "code",
   "execution_count": null,
   "metadata": {},
   "outputs": [],
   "source": []
  },
  {
   "cell_type": "code",
   "execution_count": null,
   "metadata": {},
   "outputs": [],
   "source": []
  },
  {
   "cell_type": "code",
   "execution_count": 47,
   "metadata": {},
   "outputs": [
    {
     "data": {
      "text/plain": [
       "[<matplotlib.lines.Line2D at 0x1a51f6ecd48>]"
      ]
     },
     "execution_count": 47,
     "metadata": {},
     "output_type": "execute_result"
    },
    {
     "data": {
      "image/png": "[encoded data removed]",
      "text/plain": [
       "<Figure size 432x288 with 1 Axes>"
      ]
     },
     "metadata": {
      "needs_background": "light"
     },
     "output_type": "display_data"
    }
   ],
   "source": [
    "import matplotlib.pyplot as plt\n",
    "import seaborn as sns\n",
    "%matplotlib inline\n",
    "plt.plot(model1_pdf,'o',color = 'red')#IS\n",
    "plt.plot(model2_pdf,'o',color = 'blue')#IVC\n",
    "plt.plot(model3_pdf,'o',color = 'green')#IV\n",
    "plt.plot(test_pdf,'o',color='orange')"
   ]
  },
  {
   "cell_type": "code",
   "execution_count": null,
   "metadata": {},
   "outputs": [],
   "source": []
  },
  {
   "cell_type": "code",
   "execution_count": null,
   "metadata": {
    "scrolled": true
   },
   "outputs": [],
   "source": []
  },
  {
   "cell_type": "code",
   "execution_count": null,
   "metadata": {},
   "outputs": [],
   "source": []
  },
  {
   "cell_type": "code",
   "execution_count": null,
   "metadata": {},
   "outputs": [],
   "source": []
  },
  {
   "cell_type": "code",
   "execution_count": null,
   "metadata": {},
   "outputs": [],
   "source": []
  },
  {
   "cell_type": "code",
   "execution_count": null,
   "metadata": {},
   "outputs": [],
   "source": []
  },
  {
   "cell_type": "code",
   "execution_count": null,
   "metadata": {},
   "outputs": [],
   "source": []
  },
  {
   "cell_type": "code",
   "execution_count": null,
   "metadata": {},
   "outputs": [],
   "source": []
  },
  {
   "cell_type": "code",
   "execution_count": null,
   "metadata": {},
   "outputs": [],
   "source": []
  }
 ],
 "metadata": {
  "kernelspec": {
   "display_name": "Python 3",
   "language": "python",
   "name": "python3"
  },
  "language_info": {
   "codemirror_mode": {
    "name": "ipython",
    "version": 3
   },
   "file_extension": ".py",
   "mimetype": "text/x-python",
   "name": "python",
   "nbconvert_exporter": "python",
   "pygments_lexer": "ipython3",
   "version": "3.7.6"
  }
 },
 "nbformat": 4,
 "nbformat_minor": 4
}
